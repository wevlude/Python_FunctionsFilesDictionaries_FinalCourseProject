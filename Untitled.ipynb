{
 "cells": [
  {
   "cell_type": "code",
   "execution_count": 3,
   "metadata": {},
   "outputs": [
    {
     "data": {
      "image/png": "[encoded data removed]",
      "text/plain": [
       "<Figure size 432x288 with 1 Axes>"
      ]
     },
     "metadata": {
      "needs_background": "light"
     },
     "output_type": "display_data"
    }
   ],
   "source": [
    "punctuation_chars = [\"'\", '\"', \",\", \".\", \"!\", \":\", \";\", '#', '@']\n",
    "# lists of words to use\n",
    "positive_words = []\n",
    "with open(\"positive_words.txt\") as pos_f:\n",
    "    for lin in pos_f:\n",
    "        if lin[0] != ';' and lin[0] != '\\n':\n",
    "            positive_words.append(lin.strip())\n",
    "\n",
    "\n",
    "negative_words = []\n",
    "with open(\"negative_words.txt\") as pos_f:\n",
    "    for lin in pos_f:\n",
    "        if lin[0] != ';' and lin[0] != '\\n':\n",
    "            negative_words.append(lin.strip())\n",
    "\n",
    "def strip_punctuation(word):\n",
    "    New_word=\"\"  \n",
    "    #print(\"Word is: \",word)\n",
    "    for w in word:\n",
    "        if w not in punctuation_chars:\n",
    "            New_word=New_word+w\n",
    "    return  New_word\n",
    "\n",
    "\n",
    "def get_pos(sentences):\n",
    "    lower_string=sentences.lower()                    ## As the list of positive words are in lower case\n",
    "    str_punc_removed=strip_punctuation(lower_string)  ##For Punctuation Removal\n",
    "    #print(\"str_punc_removed:\",str_punc_removed)\n",
    "    splitted_string=str_punc_removed.split()          ## For splitting the sentence into words\n",
    "    #print (\"splitted_string:\",splitted_string)\n",
    "    \n",
    "    \n",
    "    pos_count=0\n",
    "    for w in splitted_string:\n",
    "        if w in positive_words:\n",
    "            pos_count=pos_count+1\n",
    "    return pos_count\n",
    "\n",
    "def get_neg(sentences):\n",
    "    lower_string=sentences.lower()                    ## As the list of positive words are in lower case\n",
    "    str_punc_removed=strip_punctuation(lower_string)  ## For Punctuation Removal\n",
    "    #print(\"str_punc_removed:\",str_punc_removed)\n",
    "    splitted_string=str_punc_removed.split()          ## For splitting the sentence into words\n",
    "    #print (\"splitted_string:\",splitted_string)\n",
    "    \n",
    "    \n",
    "    neg_count=0\n",
    "    for w in splitted_string:\n",
    "        if w in negative_words:\n",
    "            neg_count=neg_count+1\n",
    "    return neg_count\n",
    "\n",
    "\n",
    "\n",
    "\n",
    "#The following code opens the twitter file\n",
    "fileref=open(\"project_twitter_data.csv\",\"r\")\n",
    "data = fileref.readlines()\n",
    "\n",
    "#The following code writes in the csv file named resulting_data\n",
    "outfile=open(\"resulting_data.csv\",\"w\")\n",
    "outfile.write(\"Number of Retweets, Number of Replies, Positive Score, Negative Score, Net Score\")\n",
    "outfile.write(\"\\n\")\n",
    "\n",
    "for i in data[1:]:\n",
    "    res_row=\"\"\n",
    "    splt=i.strip().split(\",\")           #Leading and trailing whitespaces are removed with strip\n",
    "    res_row=(\"{},{},{},{},{}\".format(splt[1], splt[2], get_pos(splt[0]), get_neg(splt[0]), (get_pos(splt[0])-get_neg(splt[0]))))\n",
    "    outfile.write(res_row)\n",
    "    outfile.write(\"\\n\")\n",
    "\n",
    "outfile.close()\n",
    "import pandas as pd\n",
    "import matplotlib.pyplot as plt\n",
    "df=pd.read_csv(\"resulting_data.csv\")\n",
    "fig,ax=plt.subplots()\n",
    "my_scatter_plot=ax.scatter(df[\" Net Score\"],df[\"Number of Retweets\"])\n",
    "plt.show()"
   ]
  },
  {
   "cell_type": "code",
   "execution_count": null,
   "metadata": {},
   "outputs": [],
   "source": []
  },
  {
   "cell_type": "code",
   "execution_count": null,
   "metadata": {},
   "outputs": [],
   "source": []
  },
  {
   "cell_type": "code",
   "execution_count": null,
   "metadata": {},
   "outputs": [],
   "source": []
  },
  {
   "cell_type": "code",
   "execution_count": null,
   "metadata": {},
   "outputs": [],
   "source": []
  }
 ],
 "metadata": {
  "kernelspec": {
   "display_name": "Python 3",
   "language": "python",
   "name": "python3"
  },
  "language_info": {
   "codemirror_mode": {
    "name": "ipython",
    "version": 3
   },
   "file_extension": ".py",
   "mimetype": "text/x-python",
   "name": "python",
   "nbconvert_exporter": "python",
   "pygments_lexer": "ipython3",
   "version": "3.8.3"
  }
 },
 "nbformat": 4,
 "nbformat_minor": 4
}
